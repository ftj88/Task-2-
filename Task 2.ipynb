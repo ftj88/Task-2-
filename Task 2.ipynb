{
 "cells": [
  {
   "cell_type": "code",
   "execution_count": 11,
   "id": "4df4e24e",
   "metadata": {},
   "outputs": [],
   "source": [
    "students = []"
   ]
  },
  {
   "cell_type": "code",
   "execution_count": 1,
   "id": "5382873f",
   "metadata": {},
   "outputs": [
    {
     "name": "stdin",
     "output_type": "stream",
     "text": [
      "Please enter the name of the student:  farah\n",
      "Please enter the ID of the student:  211\n",
      "Please enter the age of the student:  20\n",
      "Would you like to add more students? Type 'yes' to add more, or any other key to finish:  yes\n",
      "Please enter the name of the student:  jana\n",
      "Please enter the ID of the student:  212\n",
      "Please enter the age of the student:  20\n",
      "Would you like to add more students? Type 'yes' to add more, or any other key to finish:  yes\n",
      "Please enter the name of the student:  aya\n",
      "Please enter the ID of the student:  213\n",
      "Please enter the age of the student:  21\n",
      "Would you like to add more students? Type 'yes' to add more, or any other key to finish:  no\n"
     ]
    }
   ],
   "source": [
    "students = []\n",
    "\n",
    "answer = \"yes\"\n",
    "while answer.lower() == \"yes\":\n",
    "    name = input(\"Please enter the name of the student: \")\n",
    "    id_input = input(\"Please enter the ID of the student: \")\n",
    "    #jana's edit\n",
    "    age = input(\"Please enter the age of the student: \")\n",
    "    students.append({\"Name\": name, \"ID\": id_input, \"Age\": age})\n",
    "    answer = input(\"Would you like to add more students? Type 'yes' to add more, or any other key to finish: \")"
   ]
  },
  {
   "cell_type": "code",
   "execution_count": 3,
   "id": "3cf69538",
   "metadata": {},
   "outputs": [
    {
     "name": "stdout",
     "output_type": "stream",
     "text": [
      "\n",
      "Student Information:\n",
      "Name: farah , ID: 211 , Age: 20\n",
      "Name: jana , ID: 212 , Age: 20\n",
      "Name: aya , ID: 213 , Age: 21\n"
     ]
    }
   ],
   "source": [
    "print(\"\\nStudent Information:\")\n",
    "for student in students:\n",
    "    print(\"Name:\", student[\"Name\"], \", ID:\", student[\"ID\"], \", Age:\", student[\"Age\"])"
   ]
  },
  {
   "cell_type": "code",
   "execution_count": null,
   "id": "83f888d0",
   "metadata": {},
   "outputs": [],
   "source": []
  }
 ],
 "metadata": {
  "kernelspec": {
   "display_name": "Python 3 (ipykernel)",
   "language": "python",
   "name": "python3"
  },
  "language_info": {
   "codemirror_mode": {
    "name": "ipython",
    "version": 3
   },
   "file_extension": ".py",
   "mimetype": "text/x-python",
   "name": "python",
   "nbconvert_exporter": "python",
   "pygments_lexer": "ipython3",
   "version": "3.12.1"
  }
 },
 "nbformat": 4,
 "nbformat_minor": 5
}
