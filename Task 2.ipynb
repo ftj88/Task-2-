{
 "cells": [
  {
   "cell_type": "code",
   "execution_count": 11,
   "id": "4df4e24e",
   "metadata": {},
   "outputs": [],
   "source": [
    "students = []"
   ]
  },
  {
   "cell_type": "code",
   "execution_count": 13,
   "id": "5382873f",
   "metadata": {},
   "outputs": [
    {
     "name": "stdout",
     "output_type": "stream",
     "text": [
      "Please enter name of student: farah\n",
      "Please enter ID of student: 21\n",
      "Would you like to add more students? type 'yes' if so yes\n",
      "Please enter name of student: jana\n",
      "Please enter ID of student: 30\n",
      "Would you like to add more students? type 'yes' if so yes\n",
      "Please enter name of student: aya\n",
      "Please enter ID of student: 45\n",
      "Would you like to add more students? type 'yes' if so no\n"
     ]
    }
   ],
   "source": [
    "answer = \"yes\"\n",
    "while answer == \"yes\":\n",
    "  Name = input(\"Please enter name of student: \")\n",
    "  ID = input(\"Please enter ID of student: \")\n",
    "  students.append({\"Name\": Name, \"ID\": ID})\n",
    "  answer = input(\"Would you like to add more students? type 'yes' if so \")"
   ]
  },
  {
   "cell_type": "code",
   "execution_count": 15,
   "id": "3cf69538",
   "metadata": {},
   "outputs": [
    {
     "name": "stdout",
     "output_type": "stream",
     "text": [
      "\n",
      "Student Information:\n",
      "Name: farah , ID: 21\n",
      "Name: jana , ID: 30\n",
      "Name: aya , ID: 45\n"
     ]
    }
   ],
   "source": [
    "print(\"\\nStudent Information:\")\n",
    "for student in students:\n",
    "    print(\"Name:\", student[\"Name\"], \", ID:\", student[\"ID\"])"
   ]
  },
  {
   "cell_type": "code",
   "execution_count": null,
   "id": "83f888d0",
   "metadata": {},
   "outputs": [],
   "source": []
  }
 ],
 "metadata": {
  "kernelspec": {
   "display_name": "Python 3 (ipykernel)",
   "language": "python",
   "name": "python3"
  },
  "language_info": {
   "codemirror_mode": {
    "name": "ipython",
    "version": 3
   },
   "file_extension": ".py",
   "mimetype": "text/x-python",
   "name": "python",
   "nbconvert_exporter": "python",
   "pygments_lexer": "ipython3",
   "version": "3.11.4"
  }
 },
 "nbformat": 4,
 "nbformat_minor": 5
}
